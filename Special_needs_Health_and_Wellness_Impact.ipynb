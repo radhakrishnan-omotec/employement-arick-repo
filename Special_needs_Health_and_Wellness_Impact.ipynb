{
  "nbformat": 4,
  "nbformat_minor": 0,
  "metadata": {
    "colab": {
      "provenance": [],
      "include_colab_link": true
    },
    "kernelspec": {
      "name": "python3",
      "display_name": "Python 3"
    },
    "language_info": {
      "name": "python"
    }
  },
  "cells": [
    {
      "cell_type": "markdown",
      "metadata": {
        "id": "view-in-github",
        "colab_type": "text"
      },
      "source": [
        "<a href=\"https://colab.research.google.com/github/radhakrishnan-omotec/employement-arick-repo/blob/main/Special_needs_Health_and_Wellness_Impact.ipynb\" target=\"_parent\"><img src=\"https://colab.research.google.com/assets/colab-badge.svg\" alt=\"Open In Colab\"/></a>"
      ]
    },
    {
      "cell_type": "markdown",
      "source": [
        "##Questionnaire for employees\n",
        " **(Special needs : Health and Wellness Impact)**\n",
        "\n",
        " ### Author : Arick Agarwal"
      ],
      "metadata": {
        "id": "6PG_cvFJq6tJ"
      }
    },
    {
      "cell_type": "markdown",
      "source": [
        "# Step 1: Mount Google Drive"
      ],
      "metadata": {
        "id": "7VWBauHBtJOa"
      }
    },
    {
      "cell_type": "code",
      "source": [
        "# Step 1: Mount Google Drive\n",
        "from google.colab import drive\n",
        "drive.mount('/content/drive')\n"
      ],
      "metadata": {
        "id": "uwBGv3RbrIem",
        "colab": {
          "base_uri": "https://localhost:8080/"
        },
        "outputId": "96448ee2-f83e-4c2e-e6be-51e96faf49b5"
      },
      "execution_count": 1,
      "outputs": [
        {
          "output_type": "stream",
          "name": "stdout",
          "text": [
            "Mounted at /content/drive\n"
          ]
        }
      ]
    },
    {
      "cell_type": "markdown",
      "source": [
        "# Step 2: Specify the file path for the CSV file in your Google Drive"
      ],
      "metadata": {
        "id": "ZOX56SqLtKoi"
      }
    },
    {
      "cell_type": "code",
      "source": [
        "# Step 2: Specify the file path for the CSV file in your Google Drive\n",
        "file_path = '/content/drive/MyDrive/1.ALL-RESEARCH/ARICK AGARWAL/DATASET/Questionnaire1.csv'\n"
      ],
      "metadata": {
        "id": "UJmiHYSErWTE"
      },
      "execution_count": 7,
      "outputs": []
    },
    {
      "cell_type": "markdown",
      "source": [
        "# Step 3: Import necessary libraries"
      ],
      "metadata": {
        "id": "m7Ge45iltL4q"
      }
    },
    {
      "cell_type": "code",
      "source": [
        "# Step 3: Import necessary libraries\n",
        "import pandas as pd\n"
      ],
      "metadata": {
        "id": "wUpaM_PVraf4"
      },
      "execution_count": 3,
      "outputs": []
    },
    {
      "cell_type": "markdown",
      "source": [
        "# Step 4: Load the CSV file into a Pandas DataFrame"
      ],
      "metadata": {
        "id": "nSMlWhevtNOd"
      }
    },
    {
      "cell_type": "code",
      "source": [
        "# Step 4: Load the CSV file into a Pandas DataFrame\n",
        "try:\n",
        "    df = pd.read_csv(file_path)\n",
        "    print(\"CSV file loaded successfully!\")\n",
        "except FileNotFoundError:\n",
        "    print(\"Error: File not found. Please check the file path.\")\n"
      ],
      "metadata": {
        "id": "S9qteNBUrc3t",
        "colab": {
          "base_uri": "https://localhost:8080/"
        },
        "outputId": "186da84c-29c4-4600-e541-cfe684f6e7d9"
      },
      "execution_count": 8,
      "outputs": [
        {
          "output_type": "stream",
          "name": "stdout",
          "text": [
            "CSV file loaded successfully!\n"
          ]
        }
      ]
    },
    {
      "cell_type": "markdown",
      "source": [
        "# Step 5: Display the first few rows of the DataFrame"
      ],
      "metadata": {
        "id": "a3WGPY27tOrK"
      }
    },
    {
      "cell_type": "code",
      "source": [
        "# Step 5: Display the first few rows of the DataFrame\n",
        "print(\"\\nPreview of the DataFrame:\")\n",
        "print(df.head())\n"
      ],
      "metadata": {
        "id": "LVyvLMTurgzw",
        "colab": {
          "base_uri": "https://localhost:8080/"
        },
        "outputId": "39cce04b-9aa5-41f2-98d7-4ae85039c3b0"
      },
      "execution_count": 9,
      "outputs": [
        {
          "output_type": "stream",
          "name": "stdout",
          "text": [
            "\n",
            "Preview of the DataFrame:\n",
            "            Timestamp                 Name                          Email  \\\n",
            "0  1/14/2025 17:13:49        Arick Agarwal         arickagarwal@gmail.com   \n",
            "1  1/14/2025 17:15:19  Radhakrishnan Rajan  radhakrishnan.rajan@gmail.com   \n",
            "2  1/14/2025 17:16:24         Suraj sharma         suraj.sharma@gmail.com   \n",
            "3  1/14/2025 17:17:12         Priya Mishra         priya.mishra@gmail.com   \n",
            "4  1/14/2025 17:18:00      Kashish Wanjari      kashish.wanjari@gmail.com   \n",
            "\n",
            "     Phone Number Address  What kind of special needs?   \\\n",
            "0  +91 9994992522      NaN                     Physical   \n",
            "1  +91 8072488448   OMOTEC                     Physical   \n",
            "2  +91 8072488444   OMOTEC                     Physical   \n",
            "3  +91 8072488445   OMOTEC                     Physical   \n",
            "4  +91 8072488443   OMOTEC                     Physical   \n",
            "\n",
            "  Specify what kind of physical/mental need   \\\n",
            "0                                   Option 1   \n",
            "1                                   Option 1   \n",
            "2                                   Option 1   \n",
            "3                                   Option 1   \n",
            "4                                   Option 1   \n",
            "\n",
            "   Section 1: Health and Wellness Impact  \\\n",
            "0                                    NaN   \n",
            "1                                    NaN   \n",
            "2                                    NaN   \n",
            "3                                    NaN   \n",
            "4                                    NaN   \n",
            "\n",
            "  1. How often do you use wearable devices for health monitoring?  \\\n",
            "0                                             Weekly                \n",
            "1                                              Daily                \n",
            "2                                       Occasionally                \n",
            "3                                              Never                \n",
            "4                                             Weekly                \n",
            "\n",
            "  2. What health metric do you find most useful in a wearable device?  \\\n",
            "0                                     Sleep Tracking                    \n",
            "1                                         Heart Rate                    \n",
            "2                                     Sleep Tracking                    \n",
            "3                                     Sleep Tracking                    \n",
            "4                                         Step Count                    \n",
            "\n",
            "  3. Have wearable devices helped you manage your health better?  \\\n",
            "0                                      Yes, somewhat               \n",
            "1                                 Yes, significantly               \n",
            "2                                      Yes, somewhat               \n",
            "3                                       I’m not sure               \n",
            "4                                      Yes, somewhat               \n",
            "\n",
            "  4. Do wearable devices encourage you to stay more physically active?  \\\n",
            "0                                              Often                     \n",
            "1                                             Always                     \n",
            "2                                             Rarely                     \n",
            "3                                              Never                     \n",
            "4                                              Often                     \n",
            "\n",
            "  5. Which feature would enhance your overall well-being?  \\\n",
            "0                               Diet recommendations        \n",
            "1                                Meditation guidance        \n",
            "2                               Diet recommendations        \n",
            "3                         Personalized fitness plans        \n",
            "4                       Custom alerts for medication        \n",
            "\n",
            "  6. Do you feel wearable devices provide accurate health data?  \\\n",
            "0                                  Somewhat accurate              \n",
            "1                                      Very accurate              \n",
            "2                                  Somewhat accurate              \n",
            "3                                       I don’t know              \n",
            "4                                  Somewhat accurate              \n",
            "\n",
            "  7. How does a wearable device impact your mental well-being?  \\\n",
            "0                                         Positively             \n",
            "1                                         Positively             \n",
            "2                                          No impact             \n",
            "3                                       I’m not sure             \n",
            "4                                         Negatively             \n",
            "\n",
            "  8. Would you recommend wearable devices to others for health improvement?  \\\n",
            "0                                                Yes                          \n",
            "1                                                Yes                          \n",
            "2                                                 No                          \n",
            "3                                       I don't know                          \n",
            "4                                              Maybe                          \n",
            "\n",
            "  9. What type of health reports do you find most useful?  \\\n",
            "0                                    Daily summaries        \n",
            "1                                    Daily summaries        \n",
            "2                                   Real-time alerts        \n",
            "3                                 Long-term insights        \n",
            "4                                      Weekly trends        \n",
            "\n",
            "  10. How easy is it for you to understand the health data provided by your wearable device?  \n",
            "0                                      Somewhat easy                                          \n",
            "1                                          Very easy                                          \n",
            "2                                          Difficult                                          \n",
            "3                                     Very difficult                                          \n",
            "4                                      Somewhat easy                                          \n"
          ]
        }
      ]
    },
    {
      "cell_type": "markdown",
      "source": [
        "# Step 6: Perform 10 Pandas Functions"
      ],
      "metadata": {
        "id": "2qhhSAnPtQQM"
      }
    },
    {
      "cell_type": "code",
      "source": [
        "# Step 6: Perform 10 Pandas Functions\n",
        "\n"
      ],
      "metadata": {
        "id": "oSy_yCU0rjNZ"
      },
      "execution_count": null,
      "outputs": []
    },
    {
      "cell_type": "code",
      "source": [
        "# Function 1: Display DataFrame information\n",
        "print(\"\\nDataFrame Information:\")\n",
        "df.info()"
      ],
      "metadata": {
        "colab": {
          "base_uri": "https://localhost:8080/"
        },
        "id": "yiRAVS9EtRlA",
        "outputId": "f494ab2d-46ad-41b6-84b2-c3ce0e43b573"
      },
      "execution_count": 10,
      "outputs": [
        {
          "output_type": "stream",
          "name": "stdout",
          "text": [
            "\n",
            "DataFrame Information:\n",
            "<class 'pandas.core.frame.DataFrame'>\n",
            "RangeIndex: 5 entries, 0 to 4\n",
            "Data columns (total 18 columns):\n",
            " #   Column                                                                                      Non-Null Count  Dtype  \n",
            "---  ------                                                                                      --------------  -----  \n",
            " 0   Timestamp                                                                                   5 non-null      object \n",
            " 1   Name                                                                                        5 non-null      object \n",
            " 2   Email                                                                                       5 non-null      object \n",
            " 3   Phone Number                                                                                5 non-null      object \n",
            " 4   Address                                                                                     4 non-null      object \n",
            " 5   What kind of special needs?                                                                 5 non-null      object \n",
            " 6   Specify what kind of physical/mental need                                                   5 non-null      object \n",
            " 7   Section 1: Health and Wellness Impact                                                       0 non-null      float64\n",
            " 8   1. How often do you use wearable devices for health monitoring?                             5 non-null      object \n",
            " 9   2. What health metric do you find most useful in a wearable device?                         5 non-null      object \n",
            " 10  3. Have wearable devices helped you manage your health better?                              5 non-null      object \n",
            " 11  4. Do wearable devices encourage you to stay more physically active?                        5 non-null      object \n",
            " 12  5. Which feature would enhance your overall well-being?                                     5 non-null      object \n",
            " 13  6. Do you feel wearable devices provide accurate health data?                               5 non-null      object \n",
            " 14  7. How does a wearable device impact your mental well-being?                                5 non-null      object \n",
            " 15  8. Would you recommend wearable devices to others for health improvement?                   5 non-null      object \n",
            " 16  9. What type of health reports do you find most useful?                                     5 non-null      object \n",
            " 17  10. How easy is it for you to understand the health data provided by your wearable device?  5 non-null      object \n",
            "dtypes: float64(1), object(17)\n",
            "memory usage: 848.0+ bytes\n"
          ]
        }
      ]
    },
    {
      "cell_type": "code",
      "source": [
        "# Function 2: Get statistical summary\n",
        "print(\"\\nStatistical Summary:\")\n",
        "print(df.describe())\n"
      ],
      "metadata": {
        "id": "PC4Tf8Q4rl1J",
        "colab": {
          "base_uri": "https://localhost:8080/"
        },
        "outputId": "41b3ddfb-3d0b-4ba4-d617-88299543c3a3"
      },
      "execution_count": 11,
      "outputs": [
        {
          "output_type": "stream",
          "name": "stdout",
          "text": [
            "\n",
            "Statistical Summary:\n",
            "       Section 1: Health and Wellness Impact\n",
            "count                                    0.0\n",
            "mean                                     NaN\n",
            "std                                      NaN\n",
            "min                                      NaN\n",
            "25%                                      NaN\n",
            "50%                                      NaN\n",
            "75%                                      NaN\n",
            "max                                      NaN\n"
          ]
        }
      ]
    },
    {
      "cell_type": "code",
      "source": [
        "# Function 3: Check for missing values\n",
        "print(\"\\nMissing Values:\")\n",
        "print(df.isnull().sum())\n"
      ],
      "metadata": {
        "id": "USU7_HMwruc0",
        "colab": {
          "base_uri": "https://localhost:8080/"
        },
        "outputId": "ce6c0674-8073-4d9f-ad89-6ffad4ce0862"
      },
      "execution_count": 12,
      "outputs": [
        {
          "output_type": "stream",
          "name": "stdout",
          "text": [
            "\n",
            "Missing Values:\n",
            "Timestamp                                                                                     0\n",
            "Name                                                                                          0\n",
            "Email                                                                                         0\n",
            "Phone Number                                                                                  0\n",
            "Address                                                                                       1\n",
            "What kind of special needs?                                                                   0\n",
            "Specify what kind of physical/mental need                                                     0\n",
            "Section 1: Health and Wellness Impact                                                         5\n",
            "1. How often do you use wearable devices for health monitoring?                               0\n",
            "2. What health metric do you find most useful in a wearable device?                           0\n",
            "3. Have wearable devices helped you manage your health better?                                0\n",
            "4. Do wearable devices encourage you to stay more physically active?                          0\n",
            "5. Which feature would enhance your overall well-being?                                       0\n",
            "6. Do you feel wearable devices provide accurate health data?                                 0\n",
            "7. How does a wearable device impact your mental well-being?                                  0\n",
            "8. Would you recommend wearable devices to others for health improvement?                     0\n",
            "9. What type of health reports do you find most useful?                                       0\n",
            "10. How easy is it for you to understand the health data provided by your wearable device?    0\n",
            "dtype: int64\n"
          ]
        }
      ]
    },
    {
      "cell_type": "code",
      "source": [
        "# Function 4: Display column names\n",
        "print(\"\\nColumn Names:\")\n",
        "print(df.columns)\n"
      ],
      "metadata": {
        "id": "_D5USQ4JrwZf",
        "colab": {
          "base_uri": "https://localhost:8080/"
        },
        "outputId": "2a241d37-9efe-487a-e9fa-34e63e21fcda"
      },
      "execution_count": 13,
      "outputs": [
        {
          "output_type": "stream",
          "name": "stdout",
          "text": [
            "\n",
            "Column Names:\n",
            "Index(['Timestamp', 'Name', 'Email', 'Phone Number', 'Address ',\n",
            "       'What kind of special needs? ',\n",
            "       'Specify what kind of physical/mental need ',\n",
            "       'Section 1: Health and Wellness Impact',\n",
            "       '1. How often do you use wearable devices for health monitoring?',\n",
            "       '2. What health metric do you find most useful in a wearable device?',\n",
            "       '3. Have wearable devices helped you manage your health better?',\n",
            "       '4. Do wearable devices encourage you to stay more physically active?',\n",
            "       '5. Which feature would enhance your overall well-being?',\n",
            "       '6. Do you feel wearable devices provide accurate health data?',\n",
            "       '7. How does a wearable device impact your mental well-being?',\n",
            "       '8. Would you recommend wearable devices to others for health improvement?',\n",
            "       '9. What type of health reports do you find most useful?',\n",
            "       '10. How easy is it for you to understand the health data provided by your wearable device?'],\n",
            "      dtype='object')\n"
          ]
        }
      ]
    },
    {
      "cell_type": "code",
      "source": [
        "# Function 5: Display shape of the DataFrame\n",
        "print(\"\\nShape of the DataFrame (Rows, Columns):\")\n",
        "print(df.shape)\n"
      ],
      "metadata": {
        "id": "dqkSYg8DryAy",
        "colab": {
          "base_uri": "https://localhost:8080/"
        },
        "outputId": "d93ba43d-e5fe-4a4e-8b48-2b72636a47d5"
      },
      "execution_count": 14,
      "outputs": [
        {
          "output_type": "stream",
          "name": "stdout",
          "text": [
            "\n",
            "Shape of the DataFrame (Rows, Columns):\n",
            "(5, 18)\n"
          ]
        }
      ]
    },
    {
      "cell_type": "code",
      "source": [
        "# Function 6: Get unique values from a specific column\n",
        "column_name = 'Phone Number'  # Replace with an actual column name from your DataFrame\n",
        "if column_name in df.columns:\n",
        "    print(f\"\\nUnique values in column '{column_name}':\")\n",
        "    print(df[column_name].unique())\n",
        "else:\n",
        "    print(f\"\\nColumn '{column_name}' not found in the DataFrame.\")\n"
      ],
      "metadata": {
        "id": "ux8-kdlLrz00",
        "colab": {
          "base_uri": "https://localhost:8080/"
        },
        "outputId": "7f66b383-ad86-47f8-dec0-72781f4f16a4"
      },
      "execution_count": 16,
      "outputs": [
        {
          "output_type": "stream",
          "name": "stdout",
          "text": [
            "\n",
            "Unique values in column 'Phone Number':\n",
            "['+91 9994992522' '+91 8072488448' '+91 8072488444' '+91 8072488445'\n",
            " '+91 8072488443']\n"
          ]
        }
      ]
    },
    {
      "cell_type": "code",
      "source": [
        "# Function 7: Sort the DataFrame by a specific column\n",
        "sort_column = 'Phone Number'  # Replace with an actual column name from your DataFrame\n",
        "if sort_column in df.columns:\n",
        "    sorted_df = df.sort_values(by=sort_column, ascending=True)\n",
        "    print(f\"\\nDataFrame sorted by '{sort_column}':\")\n",
        "    print(sorted_df.head())\n",
        "else:\n",
        "    print(f\"\\nColumn '{sort_column}' not found in the DataFrame.\")\n"
      ],
      "metadata": {
        "id": "zaa68lTlr2cp",
        "colab": {
          "base_uri": "https://localhost:8080/"
        },
        "outputId": "cea3fe9d-14da-4dea-c501-8810c34dff94"
      },
      "execution_count": 17,
      "outputs": [
        {
          "output_type": "stream",
          "name": "stdout",
          "text": [
            "\n",
            "DataFrame sorted by 'Phone Number':\n",
            "            Timestamp                 Name                          Email  \\\n",
            "4  1/14/2025 17:18:00      Kashish Wanjari      kashish.wanjari@gmail.com   \n",
            "2  1/14/2025 17:16:24         Suraj sharma         suraj.sharma@gmail.com   \n",
            "3  1/14/2025 17:17:12         Priya Mishra         priya.mishra@gmail.com   \n",
            "1  1/14/2025 17:15:19  Radhakrishnan Rajan  radhakrishnan.rajan@gmail.com   \n",
            "0  1/14/2025 17:13:49        Arick Agarwal         arickagarwal@gmail.com   \n",
            "\n",
            "     Phone Number Address  What kind of special needs?   \\\n",
            "4  +91 8072488443   OMOTEC                     Physical   \n",
            "2  +91 8072488444   OMOTEC                     Physical   \n",
            "3  +91 8072488445   OMOTEC                     Physical   \n",
            "1  +91 8072488448   OMOTEC                     Physical   \n",
            "0  +91 9994992522      NaN                     Physical   \n",
            "\n",
            "  Specify what kind of physical/mental need   \\\n",
            "4                                   Option 1   \n",
            "2                                   Option 1   \n",
            "3                                   Option 1   \n",
            "1                                   Option 1   \n",
            "0                                   Option 1   \n",
            "\n",
            "   Section 1: Health and Wellness Impact  \\\n",
            "4                                    NaN   \n",
            "2                                    NaN   \n",
            "3                                    NaN   \n",
            "1                                    NaN   \n",
            "0                                    NaN   \n",
            "\n",
            "  1. How often do you use wearable devices for health monitoring?  \\\n",
            "4                                             Weekly                \n",
            "2                                       Occasionally                \n",
            "3                                              Never                \n",
            "1                                              Daily                \n",
            "0                                             Weekly                \n",
            "\n",
            "  2. What health metric do you find most useful in a wearable device?  \\\n",
            "4                                         Step Count                    \n",
            "2                                     Sleep Tracking                    \n",
            "3                                     Sleep Tracking                    \n",
            "1                                         Heart Rate                    \n",
            "0                                     Sleep Tracking                    \n",
            "\n",
            "  3. Have wearable devices helped you manage your health better?  \\\n",
            "4                                      Yes, somewhat               \n",
            "2                                      Yes, somewhat               \n",
            "3                                       I’m not sure               \n",
            "1                                 Yes, significantly               \n",
            "0                                      Yes, somewhat               \n",
            "\n",
            "  4. Do wearable devices encourage you to stay more physically active?  \\\n",
            "4                                              Often                     \n",
            "2                                             Rarely                     \n",
            "3                                              Never                     \n",
            "1                                             Always                     \n",
            "0                                              Often                     \n",
            "\n",
            "  5. Which feature would enhance your overall well-being?  \\\n",
            "4                       Custom alerts for medication        \n",
            "2                               Diet recommendations        \n",
            "3                         Personalized fitness plans        \n",
            "1                                Meditation guidance        \n",
            "0                               Diet recommendations        \n",
            "\n",
            "  6. Do you feel wearable devices provide accurate health data?  \\\n",
            "4                                  Somewhat accurate              \n",
            "2                                  Somewhat accurate              \n",
            "3                                       I don’t know              \n",
            "1                                      Very accurate              \n",
            "0                                  Somewhat accurate              \n",
            "\n",
            "  7. How does a wearable device impact your mental well-being?  \\\n",
            "4                                         Negatively             \n",
            "2                                          No impact             \n",
            "3                                       I’m not sure             \n",
            "1                                         Positively             \n",
            "0                                         Positively             \n",
            "\n",
            "  8. Would you recommend wearable devices to others for health improvement?  \\\n",
            "4                                              Maybe                          \n",
            "2                                                 No                          \n",
            "3                                       I don't know                          \n",
            "1                                                Yes                          \n",
            "0                                                Yes                          \n",
            "\n",
            "  9. What type of health reports do you find most useful?  \\\n",
            "4                                      Weekly trends        \n",
            "2                                   Real-time alerts        \n",
            "3                                 Long-term insights        \n",
            "1                                    Daily summaries        \n",
            "0                                    Daily summaries        \n",
            "\n",
            "  10. How easy is it for you to understand the health data provided by your wearable device?  \n",
            "4                                      Somewhat easy                                          \n",
            "2                                          Difficult                                          \n",
            "3                                     Very difficult                                          \n",
            "1                                          Very easy                                          \n",
            "0                                      Somewhat easy                                          \n"
          ]
        }
      ]
    },
    {
      "cell_type": "code",
      "source": [
        "# Function 8: Rename columns in the DataFrame\n",
        "new_column_names = {'Phone Number': 'New Phone Number'}  # Replace old_name and new_name accordingly\n",
        "df_renamed = df.rename(columns=new_column_names)\n",
        "print(\"\\nDataFrame with Renamed Columns:\")\n",
        "print(df_renamed.head())\n"
      ],
      "metadata": {
        "id": "Lsxtoe0Gr7_m",
        "colab": {
          "base_uri": "https://localhost:8080/"
        },
        "outputId": "5b211eac-0db9-4bd7-e859-037000924aa3"
      },
      "execution_count": 20,
      "outputs": [
        {
          "output_type": "stream",
          "name": "stdout",
          "text": [
            "\n",
            "DataFrame with Renamed Columns:\n",
            "            Timestamp                 Name                          Email  \\\n",
            "0  1/14/2025 17:13:49        Arick Agarwal         arickagarwal@gmail.com   \n",
            "1  1/14/2025 17:15:19  Radhakrishnan Rajan  radhakrishnan.rajan@gmail.com   \n",
            "2  1/14/2025 17:16:24         Suraj sharma         suraj.sharma@gmail.com   \n",
            "3  1/14/2025 17:17:12         Priya Mishra         priya.mishra@gmail.com   \n",
            "4  1/14/2025 17:18:00      Kashish Wanjari      kashish.wanjari@gmail.com   \n",
            "\n",
            "  New Phone Number Address  What kind of special needs?   \\\n",
            "0   +91 9994992522      NaN                     Physical   \n",
            "1   +91 8072488448   OMOTEC                     Physical   \n",
            "2   +91 8072488444   OMOTEC                     Physical   \n",
            "3   +91 8072488445   OMOTEC                     Physical   \n",
            "4   +91 8072488443   OMOTEC                     Physical   \n",
            "\n",
            "  Specify what kind of physical/mental need   \\\n",
            "0                                   Option 1   \n",
            "1                                   Option 1   \n",
            "2                                   Option 1   \n",
            "3                                   Option 1   \n",
            "4                                   Option 1   \n",
            "\n",
            "   Section 1: Health and Wellness Impact  \\\n",
            "0                                    NaN   \n",
            "1                                    NaN   \n",
            "2                                    NaN   \n",
            "3                                    NaN   \n",
            "4                                    NaN   \n",
            "\n",
            "  1. How often do you use wearable devices for health monitoring?  \\\n",
            "0                                             Weekly                \n",
            "1                                              Daily                \n",
            "2                                       Occasionally                \n",
            "3                                              Never                \n",
            "4                                             Weekly                \n",
            "\n",
            "  2. What health metric do you find most useful in a wearable device?  \\\n",
            "0                                     Sleep Tracking                    \n",
            "1                                         Heart Rate                    \n",
            "2                                     Sleep Tracking                    \n",
            "3                                     Sleep Tracking                    \n",
            "4                                         Step Count                    \n",
            "\n",
            "  3. Have wearable devices helped you manage your health better?  \\\n",
            "0                                      Yes, somewhat               \n",
            "1                                 Yes, significantly               \n",
            "2                                      Yes, somewhat               \n",
            "3                                       I’m not sure               \n",
            "4                                      Yes, somewhat               \n",
            "\n",
            "  4. Do wearable devices encourage you to stay more physically active?  \\\n",
            "0                                              Often                     \n",
            "1                                             Always                     \n",
            "2                                             Rarely                     \n",
            "3                                              Never                     \n",
            "4                                              Often                     \n",
            "\n",
            "  5. Which feature would enhance your overall well-being?  \\\n",
            "0                               Diet recommendations        \n",
            "1                                Meditation guidance        \n",
            "2                               Diet recommendations        \n",
            "3                         Personalized fitness plans        \n",
            "4                       Custom alerts for medication        \n",
            "\n",
            "  6. Do you feel wearable devices provide accurate health data?  \\\n",
            "0                                  Somewhat accurate              \n",
            "1                                      Very accurate              \n",
            "2                                  Somewhat accurate              \n",
            "3                                       I don’t know              \n",
            "4                                  Somewhat accurate              \n",
            "\n",
            "  7. How does a wearable device impact your mental well-being?  \\\n",
            "0                                         Positively             \n",
            "1                                         Positively             \n",
            "2                                          No impact             \n",
            "3                                       I’m not sure             \n",
            "4                                         Negatively             \n",
            "\n",
            "  8. Would you recommend wearable devices to others for health improvement?  \\\n",
            "0                                                Yes                          \n",
            "1                                                Yes                          \n",
            "2                                                 No                          \n",
            "3                                       I don't know                          \n",
            "4                                              Maybe                          \n",
            "\n",
            "  9. What type of health reports do you find most useful?  \\\n",
            "0                                    Daily summaries        \n",
            "1                                    Daily summaries        \n",
            "2                                   Real-time alerts        \n",
            "3                                 Long-term insights        \n",
            "4                                      Weekly trends        \n",
            "\n",
            "  10. How easy is it for you to understand the health data provided by your wearable device?  \n",
            "0                                      Somewhat easy                                          \n",
            "1                                          Very easy                                          \n",
            "2                                          Difficult                                          \n",
            "3                                     Very difficult                                          \n",
            "4                                      Somewhat easy                                          \n"
          ]
        }
      ]
    },
    {
      "cell_type": "code",
      "source": [
        "#Display renamed columns\n",
        "df.head()"
      ],
      "metadata": {
        "colab": {
          "base_uri": "https://localhost:8080/",
          "height": 469
        },
        "id": "EZfRY1npwHSa",
        "outputId": "8f56bb55-ed93-4f61-8ebf-2c2e770ae229"
      },
      "execution_count": 21,
      "outputs": [
        {
          "output_type": "execute_result",
          "data": {
            "text/plain": [
              "            Timestamp                 Name                          Email  \\\n",
              "0  1/14/2025 17:13:49        Arick Agarwal         arickagarwal@gmail.com   \n",
              "1  1/14/2025 17:15:19  Radhakrishnan Rajan  radhakrishnan.rajan@gmail.com   \n",
              "2  1/14/2025 17:16:24         Suraj sharma         suraj.sharma@gmail.com   \n",
              "3  1/14/2025 17:17:12         Priya Mishra         priya.mishra@gmail.com   \n",
              "4  1/14/2025 17:18:00      Kashish Wanjari      kashish.wanjari@gmail.com   \n",
              "\n",
              "     Phone Number Address  What kind of special needs?   \\\n",
              "0  +91 9994992522      NaN                     Physical   \n",
              "1  +91 8072488448   OMOTEC                     Physical   \n",
              "2  +91 8072488444   OMOTEC                     Physical   \n",
              "3  +91 8072488445   OMOTEC                     Physical   \n",
              "4  +91 8072488443   OMOTEC                     Physical   \n",
              "\n",
              "  Specify what kind of physical/mental need   \\\n",
              "0                                   Option 1   \n",
              "1                                   Option 1   \n",
              "2                                   Option 1   \n",
              "3                                   Option 1   \n",
              "4                                   Option 1   \n",
              "\n",
              "   Section 1: Health and Wellness Impact  \\\n",
              "0                                    NaN   \n",
              "1                                    NaN   \n",
              "2                                    NaN   \n",
              "3                                    NaN   \n",
              "4                                    NaN   \n",
              "\n",
              "  1. How often do you use wearable devices for health monitoring?  \\\n",
              "0                                             Weekly                \n",
              "1                                              Daily                \n",
              "2                                       Occasionally                \n",
              "3                                              Never                \n",
              "4                                             Weekly                \n",
              "\n",
              "  2. What health metric do you find most useful in a wearable device?  \\\n",
              "0                                     Sleep Tracking                    \n",
              "1                                         Heart Rate                    \n",
              "2                                     Sleep Tracking                    \n",
              "3                                     Sleep Tracking                    \n",
              "4                                         Step Count                    \n",
              "\n",
              "  3. Have wearable devices helped you manage your health better?  \\\n",
              "0                                      Yes, somewhat               \n",
              "1                                 Yes, significantly               \n",
              "2                                      Yes, somewhat               \n",
              "3                                       I’m not sure               \n",
              "4                                      Yes, somewhat               \n",
              "\n",
              "  4. Do wearable devices encourage you to stay more physically active?  \\\n",
              "0                                              Often                     \n",
              "1                                             Always                     \n",
              "2                                             Rarely                     \n",
              "3                                              Never                     \n",
              "4                                              Often                     \n",
              "\n",
              "  5. Which feature would enhance your overall well-being?  \\\n",
              "0                               Diet recommendations        \n",
              "1                                Meditation guidance        \n",
              "2                               Diet recommendations        \n",
              "3                         Personalized fitness plans        \n",
              "4                       Custom alerts for medication        \n",
              "\n",
              "  6. Do you feel wearable devices provide accurate health data?  \\\n",
              "0                                  Somewhat accurate              \n",
              "1                                      Very accurate              \n",
              "2                                  Somewhat accurate              \n",
              "3                                       I don’t know              \n",
              "4                                  Somewhat accurate              \n",
              "\n",
              "  7. How does a wearable device impact your mental well-being?  \\\n",
              "0                                         Positively             \n",
              "1                                         Positively             \n",
              "2                                          No impact             \n",
              "3                                       I’m not sure             \n",
              "4                                         Negatively             \n",
              "\n",
              "  8. Would you recommend wearable devices to others for health improvement?  \\\n",
              "0                                                Yes                          \n",
              "1                                                Yes                          \n",
              "2                                                 No                          \n",
              "3                                       I don't know                          \n",
              "4                                              Maybe                          \n",
              "\n",
              "  9. What type of health reports do you find most useful?  \\\n",
              "0                                    Daily summaries        \n",
              "1                                    Daily summaries        \n",
              "2                                   Real-time alerts        \n",
              "3                                 Long-term insights        \n",
              "4                                      Weekly trends        \n",
              "\n",
              "  10. How easy is it for you to understand the health data provided by your wearable device?  \n",
              "0                                      Somewhat easy                                          \n",
              "1                                          Very easy                                          \n",
              "2                                          Difficult                                          \n",
              "3                                     Very difficult                                          \n",
              "4                                      Somewhat easy                                          "
            ],
            "text/html": [
              "\n",
              "  <div id=\"df-6fe543f9-f765-4a3f-bfe6-2230d4d3cb73\" class=\"colab-df-container\">\n",
              "    <div>\n",
              "<style scoped>\n",
              "    .dataframe tbody tr th:only-of-type {\n",
              "        vertical-align: middle;\n",
              "    }\n",
              "\n",
              "    .dataframe tbody tr th {\n",
              "        vertical-align: top;\n",
              "    }\n",
              "\n",
              "    .dataframe thead th {\n",
              "        text-align: right;\n",
              "    }\n",
              "</style>\n",
              "<table border=\"1\" class=\"dataframe\">\n",
              "  <thead>\n",
              "    <tr style=\"text-align: right;\">\n",
              "      <th></th>\n",
              "      <th>Timestamp</th>\n",
              "      <th>Name</th>\n",
              "      <th>Email</th>\n",
              "      <th>Phone Number</th>\n",
              "      <th>Address</th>\n",
              "      <th>What kind of special needs?</th>\n",
              "      <th>Specify what kind of physical/mental need</th>\n",
              "      <th>Section 1: Health and Wellness Impact</th>\n",
              "      <th>1. How often do you use wearable devices for health monitoring?</th>\n",
              "      <th>2. What health metric do you find most useful in a wearable device?</th>\n",
              "      <th>3. Have wearable devices helped you manage your health better?</th>\n",
              "      <th>4. Do wearable devices encourage you to stay more physically active?</th>\n",
              "      <th>5. Which feature would enhance your overall well-being?</th>\n",
              "      <th>6. Do you feel wearable devices provide accurate health data?</th>\n",
              "      <th>7. How does a wearable device impact your mental well-being?</th>\n",
              "      <th>8. Would you recommend wearable devices to others for health improvement?</th>\n",
              "      <th>9. What type of health reports do you find most useful?</th>\n",
              "      <th>10. How easy is it for you to understand the health data provided by your wearable device?</th>\n",
              "    </tr>\n",
              "  </thead>\n",
              "  <tbody>\n",
              "    <tr>\n",
              "      <th>0</th>\n",
              "      <td>1/14/2025 17:13:49</td>\n",
              "      <td>Arick Agarwal</td>\n",
              "      <td>arickagarwal@gmail.com</td>\n",
              "      <td>+91 9994992522</td>\n",
              "      <td>NaN</td>\n",
              "      <td>Physical</td>\n",
              "      <td>Option 1</td>\n",
              "      <td>NaN</td>\n",
              "      <td>Weekly</td>\n",
              "      <td>Sleep Tracking</td>\n",
              "      <td>Yes, somewhat</td>\n",
              "      <td>Often</td>\n",
              "      <td>Diet recommendations</td>\n",
              "      <td>Somewhat accurate</td>\n",
              "      <td>Positively</td>\n",
              "      <td>Yes</td>\n",
              "      <td>Daily summaries</td>\n",
              "      <td>Somewhat easy</td>\n",
              "    </tr>\n",
              "    <tr>\n",
              "      <th>1</th>\n",
              "      <td>1/14/2025 17:15:19</td>\n",
              "      <td>Radhakrishnan Rajan</td>\n",
              "      <td>radhakrishnan.rajan@gmail.com</td>\n",
              "      <td>+91 8072488448</td>\n",
              "      <td>OMOTEC</td>\n",
              "      <td>Physical</td>\n",
              "      <td>Option 1</td>\n",
              "      <td>NaN</td>\n",
              "      <td>Daily</td>\n",
              "      <td>Heart Rate</td>\n",
              "      <td>Yes, significantly</td>\n",
              "      <td>Always</td>\n",
              "      <td>Meditation guidance</td>\n",
              "      <td>Very accurate</td>\n",
              "      <td>Positively</td>\n",
              "      <td>Yes</td>\n",
              "      <td>Daily summaries</td>\n",
              "      <td>Very easy</td>\n",
              "    </tr>\n",
              "    <tr>\n",
              "      <th>2</th>\n",
              "      <td>1/14/2025 17:16:24</td>\n",
              "      <td>Suraj sharma</td>\n",
              "      <td>suraj.sharma@gmail.com</td>\n",
              "      <td>+91 8072488444</td>\n",
              "      <td>OMOTEC</td>\n",
              "      <td>Physical</td>\n",
              "      <td>Option 1</td>\n",
              "      <td>NaN</td>\n",
              "      <td>Occasionally</td>\n",
              "      <td>Sleep Tracking</td>\n",
              "      <td>Yes, somewhat</td>\n",
              "      <td>Rarely</td>\n",
              "      <td>Diet recommendations</td>\n",
              "      <td>Somewhat accurate</td>\n",
              "      <td>No impact</td>\n",
              "      <td>No</td>\n",
              "      <td>Real-time alerts</td>\n",
              "      <td>Difficult</td>\n",
              "    </tr>\n",
              "    <tr>\n",
              "      <th>3</th>\n",
              "      <td>1/14/2025 17:17:12</td>\n",
              "      <td>Priya Mishra</td>\n",
              "      <td>priya.mishra@gmail.com</td>\n",
              "      <td>+91 8072488445</td>\n",
              "      <td>OMOTEC</td>\n",
              "      <td>Physical</td>\n",
              "      <td>Option 1</td>\n",
              "      <td>NaN</td>\n",
              "      <td>Never</td>\n",
              "      <td>Sleep Tracking</td>\n",
              "      <td>I’m not sure</td>\n",
              "      <td>Never</td>\n",
              "      <td>Personalized fitness plans</td>\n",
              "      <td>I don’t know</td>\n",
              "      <td>I’m not sure</td>\n",
              "      <td>I don't know</td>\n",
              "      <td>Long-term insights</td>\n",
              "      <td>Very difficult</td>\n",
              "    </tr>\n",
              "    <tr>\n",
              "      <th>4</th>\n",
              "      <td>1/14/2025 17:18:00</td>\n",
              "      <td>Kashish Wanjari</td>\n",
              "      <td>kashish.wanjari@gmail.com</td>\n",
              "      <td>+91 8072488443</td>\n",
              "      <td>OMOTEC</td>\n",
              "      <td>Physical</td>\n",
              "      <td>Option 1</td>\n",
              "      <td>NaN</td>\n",
              "      <td>Weekly</td>\n",
              "      <td>Step Count</td>\n",
              "      <td>Yes, somewhat</td>\n",
              "      <td>Often</td>\n",
              "      <td>Custom alerts for medication</td>\n",
              "      <td>Somewhat accurate</td>\n",
              "      <td>Negatively</td>\n",
              "      <td>Maybe</td>\n",
              "      <td>Weekly trends</td>\n",
              "      <td>Somewhat easy</td>\n",
              "    </tr>\n",
              "  </tbody>\n",
              "</table>\n",
              "</div>\n",
              "    <div class=\"colab-df-buttons\">\n",
              "\n",
              "  <div class=\"colab-df-container\">\n",
              "    <button class=\"colab-df-convert\" onclick=\"convertToInteractive('df-6fe543f9-f765-4a3f-bfe6-2230d4d3cb73')\"\n",
              "            title=\"Convert this dataframe to an interactive table.\"\n",
              "            style=\"display:none;\">\n",
              "\n",
              "  <svg xmlns=\"http://www.w3.org/2000/svg\" height=\"24px\" viewBox=\"0 -960 960 960\">\n",
              "    <path d=\"M120-120v-720h720v720H120Zm60-500h600v-160H180v160Zm220 220h160v-160H400v160Zm0 220h160v-160H400v160ZM180-400h160v-160H180v160Zm440 0h160v-160H620v160ZM180-180h160v-160H180v160Zm440 0h160v-160H620v160Z\"/>\n",
              "  </svg>\n",
              "    </button>\n",
              "\n",
              "  <style>\n",
              "    .colab-df-container {\n",
              "      display:flex;\n",
              "      gap: 12px;\n",
              "    }\n",
              "\n",
              "    .colab-df-convert {\n",
              "      background-color: #E8F0FE;\n",
              "      border: none;\n",
              "      border-radius: 50%;\n",
              "      cursor: pointer;\n",
              "      display: none;\n",
              "      fill: #1967D2;\n",
              "      height: 32px;\n",
              "      padding: 0 0 0 0;\n",
              "      width: 32px;\n",
              "    }\n",
              "\n",
              "    .colab-df-convert:hover {\n",
              "      background-color: #E2EBFA;\n",
              "      box-shadow: 0px 1px 2px rgba(60, 64, 67, 0.3), 0px 1px 3px 1px rgba(60, 64, 67, 0.15);\n",
              "      fill: #174EA6;\n",
              "    }\n",
              "\n",
              "    .colab-df-buttons div {\n",
              "      margin-bottom: 4px;\n",
              "    }\n",
              "\n",
              "    [theme=dark] .colab-df-convert {\n",
              "      background-color: #3B4455;\n",
              "      fill: #D2E3FC;\n",
              "    }\n",
              "\n",
              "    [theme=dark] .colab-df-convert:hover {\n",
              "      background-color: #434B5C;\n",
              "      box-shadow: 0px 1px 3px 1px rgba(0, 0, 0, 0.15);\n",
              "      filter: drop-shadow(0px 1px 2px rgba(0, 0, 0, 0.3));\n",
              "      fill: #FFFFFF;\n",
              "    }\n",
              "  </style>\n",
              "\n",
              "    <script>\n",
              "      const buttonEl =\n",
              "        document.querySelector('#df-6fe543f9-f765-4a3f-bfe6-2230d4d3cb73 button.colab-df-convert');\n",
              "      buttonEl.style.display =\n",
              "        google.colab.kernel.accessAllowed ? 'block' : 'none';\n",
              "\n",
              "      async function convertToInteractive(key) {\n",
              "        const element = document.querySelector('#df-6fe543f9-f765-4a3f-bfe6-2230d4d3cb73');\n",
              "        const dataTable =\n",
              "          await google.colab.kernel.invokeFunction('convertToInteractive',\n",
              "                                                    [key], {});\n",
              "        if (!dataTable) return;\n",
              "\n",
              "        const docLinkHtml = 'Like what you see? Visit the ' +\n",
              "          '<a target=\"_blank\" href=https://colab.research.google.com/notebooks/data_table.ipynb>data table notebook</a>'\n",
              "          + ' to learn more about interactive tables.';\n",
              "        element.innerHTML = '';\n",
              "        dataTable['output_type'] = 'display_data';\n",
              "        await google.colab.output.renderOutput(dataTable, element);\n",
              "        const docLink = document.createElement('div');\n",
              "        docLink.innerHTML = docLinkHtml;\n",
              "        element.appendChild(docLink);\n",
              "      }\n",
              "    </script>\n",
              "  </div>\n",
              "\n",
              "\n",
              "<div id=\"df-e05aff49-04ad-44e3-8448-7f9f97d493cc\">\n",
              "  <button class=\"colab-df-quickchart\" onclick=\"quickchart('df-e05aff49-04ad-44e3-8448-7f9f97d493cc')\"\n",
              "            title=\"Suggest charts\"\n",
              "            style=\"display:none;\">\n",
              "\n",
              "<svg xmlns=\"http://www.w3.org/2000/svg\" height=\"24px\"viewBox=\"0 0 24 24\"\n",
              "     width=\"24px\">\n",
              "    <g>\n",
              "        <path d=\"M19 3H5c-1.1 0-2 .9-2 2v14c0 1.1.9 2 2 2h14c1.1 0 2-.9 2-2V5c0-1.1-.9-2-2-2zM9 17H7v-7h2v7zm4 0h-2V7h2v10zm4 0h-2v-4h2v4z\"/>\n",
              "    </g>\n",
              "</svg>\n",
              "  </button>\n",
              "\n",
              "<style>\n",
              "  .colab-df-quickchart {\n",
              "      --bg-color: #E8F0FE;\n",
              "      --fill-color: #1967D2;\n",
              "      --hover-bg-color: #E2EBFA;\n",
              "      --hover-fill-color: #174EA6;\n",
              "      --disabled-fill-color: #AAA;\n",
              "      --disabled-bg-color: #DDD;\n",
              "  }\n",
              "\n",
              "  [theme=dark] .colab-df-quickchart {\n",
              "      --bg-color: #3B4455;\n",
              "      --fill-color: #D2E3FC;\n",
              "      --hover-bg-color: #434B5C;\n",
              "      --hover-fill-color: #FFFFFF;\n",
              "      --disabled-bg-color: #3B4455;\n",
              "      --disabled-fill-color: #666;\n",
              "  }\n",
              "\n",
              "  .colab-df-quickchart {\n",
              "    background-color: var(--bg-color);\n",
              "    border: none;\n",
              "    border-radius: 50%;\n",
              "    cursor: pointer;\n",
              "    display: none;\n",
              "    fill: var(--fill-color);\n",
              "    height: 32px;\n",
              "    padding: 0;\n",
              "    width: 32px;\n",
              "  }\n",
              "\n",
              "  .colab-df-quickchart:hover {\n",
              "    background-color: var(--hover-bg-color);\n",
              "    box-shadow: 0 1px 2px rgba(60, 64, 67, 0.3), 0 1px 3px 1px rgba(60, 64, 67, 0.15);\n",
              "    fill: var(--button-hover-fill-color);\n",
              "  }\n",
              "\n",
              "  .colab-df-quickchart-complete:disabled,\n",
              "  .colab-df-quickchart-complete:disabled:hover {\n",
              "    background-color: var(--disabled-bg-color);\n",
              "    fill: var(--disabled-fill-color);\n",
              "    box-shadow: none;\n",
              "  }\n",
              "\n",
              "  .colab-df-spinner {\n",
              "    border: 2px solid var(--fill-color);\n",
              "    border-color: transparent;\n",
              "    border-bottom-color: var(--fill-color);\n",
              "    animation:\n",
              "      spin 1s steps(1) infinite;\n",
              "  }\n",
              "\n",
              "  @keyframes spin {\n",
              "    0% {\n",
              "      border-color: transparent;\n",
              "      border-bottom-color: var(--fill-color);\n",
              "      border-left-color: var(--fill-color);\n",
              "    }\n",
              "    20% {\n",
              "      border-color: transparent;\n",
              "      border-left-color: var(--fill-color);\n",
              "      border-top-color: var(--fill-color);\n",
              "    }\n",
              "    30% {\n",
              "      border-color: transparent;\n",
              "      border-left-color: var(--fill-color);\n",
              "      border-top-color: var(--fill-color);\n",
              "      border-right-color: var(--fill-color);\n",
              "    }\n",
              "    40% {\n",
              "      border-color: transparent;\n",
              "      border-right-color: var(--fill-color);\n",
              "      border-top-color: var(--fill-color);\n",
              "    }\n",
              "    60% {\n",
              "      border-color: transparent;\n",
              "      border-right-color: var(--fill-color);\n",
              "    }\n",
              "    80% {\n",
              "      border-color: transparent;\n",
              "      border-right-color: var(--fill-color);\n",
              "      border-bottom-color: var(--fill-color);\n",
              "    }\n",
              "    90% {\n",
              "      border-color: transparent;\n",
              "      border-bottom-color: var(--fill-color);\n",
              "    }\n",
              "  }\n",
              "</style>\n",
              "\n",
              "  <script>\n",
              "    async function quickchart(key) {\n",
              "      const quickchartButtonEl =\n",
              "        document.querySelector('#' + key + ' button');\n",
              "      quickchartButtonEl.disabled = true;  // To prevent multiple clicks.\n",
              "      quickchartButtonEl.classList.add('colab-df-spinner');\n",
              "      try {\n",
              "        const charts = await google.colab.kernel.invokeFunction(\n",
              "            'suggestCharts', [key], {});\n",
              "      } catch (error) {\n",
              "        console.error('Error during call to suggestCharts:', error);\n",
              "      }\n",
              "      quickchartButtonEl.classList.remove('colab-df-spinner');\n",
              "      quickchartButtonEl.classList.add('colab-df-quickchart-complete');\n",
              "    }\n",
              "    (() => {\n",
              "      let quickchartButtonEl =\n",
              "        document.querySelector('#df-e05aff49-04ad-44e3-8448-7f9f97d493cc button');\n",
              "      quickchartButtonEl.style.display =\n",
              "        google.colab.kernel.accessAllowed ? 'block' : 'none';\n",
              "    })();\n",
              "  </script>\n",
              "</div>\n",
              "\n",
              "    </div>\n",
              "  </div>\n"
            ],
            "application/vnd.google.colaboratory.intrinsic+json": {
              "type": "dataframe",
              "variable_name": "df",
              "summary": "{\n  \"name\": \"df\",\n  \"rows\": 5,\n  \"fields\": [\n    {\n      \"column\": \"Timestamp\",\n      \"properties\": {\n        \"dtype\": \"object\",\n        \"num_unique_values\": 5,\n        \"samples\": [\n          \"1/14/2025 17:15:19\",\n          \"1/14/2025 17:18:00\",\n          \"1/14/2025 17:16:24\"\n        ],\n        \"semantic_type\": \"\",\n        \"description\": \"\"\n      }\n    },\n    {\n      \"column\": \"Name\",\n      \"properties\": {\n        \"dtype\": \"string\",\n        \"num_unique_values\": 5,\n        \"samples\": [\n          \"Radhakrishnan Rajan\",\n          \"Kashish Wanjari\",\n          \"Suraj sharma\"\n        ],\n        \"semantic_type\": \"\",\n        \"description\": \"\"\n      }\n    },\n    {\n      \"column\": \"Email\",\n      \"properties\": {\n        \"dtype\": \"string\",\n        \"num_unique_values\": 5,\n        \"samples\": [\n          \"radhakrishnan.rajan@gmail.com\",\n          \"kashish.wanjari@gmail.com\",\n          \"suraj.sharma@gmail.com\"\n        ],\n        \"semantic_type\": \"\",\n        \"description\": \"\"\n      }\n    },\n    {\n      \"column\": \"Phone Number\",\n      \"properties\": {\n        \"dtype\": \"string\",\n        \"num_unique_values\": 5,\n        \"samples\": [\n          \"+91 8072488448\",\n          \"+91 8072488443\",\n          \"+91 8072488444\"\n        ],\n        \"semantic_type\": \"\",\n        \"description\": \"\"\n      }\n    },\n    {\n      \"column\": \"Address \",\n      \"properties\": {\n        \"dtype\": \"category\",\n        \"num_unique_values\": 1,\n        \"samples\": [\n          \"OMOTEC\"\n        ],\n        \"semantic_type\": \"\",\n        \"description\": \"\"\n      }\n    },\n    {\n      \"column\": \"What kind of special needs? \",\n      \"properties\": {\n        \"dtype\": \"category\",\n        \"num_unique_values\": 1,\n        \"samples\": [\n          \"Physical\"\n        ],\n        \"semantic_type\": \"\",\n        \"description\": \"\"\n      }\n    },\n    {\n      \"column\": \"Specify what kind of physical/mental need \",\n      \"properties\": {\n        \"dtype\": \"category\",\n        \"num_unique_values\": 1,\n        \"samples\": [\n          \"Option 1\"\n        ],\n        \"semantic_type\": \"\",\n        \"description\": \"\"\n      }\n    },\n    {\n      \"column\": \"Section 1: Health and Wellness Impact\",\n      \"properties\": {\n        \"dtype\": \"number\",\n        \"std\": null,\n        \"min\": null,\n        \"max\": null,\n        \"num_unique_values\": 0,\n        \"samples\": [],\n        \"semantic_type\": \"\",\n        \"description\": \"\"\n      }\n    },\n    {\n      \"column\": \"1. How often do you use wearable devices for health monitoring?\",\n      \"properties\": {\n        \"dtype\": \"string\",\n        \"num_unique_values\": 4,\n        \"samples\": [],\n        \"semantic_type\": \"\",\n        \"description\": \"\"\n      }\n    },\n    {\n      \"column\": \"2. What health metric do you find most useful in a wearable device?\",\n      \"properties\": {\n        \"dtype\": \"string\",\n        \"num_unique_values\": 3,\n        \"samples\": [],\n        \"semantic_type\": \"\",\n        \"description\": \"\"\n      }\n    },\n    {\n      \"column\": \"3. Have wearable devices helped you manage your health better?\",\n      \"properties\": {\n        \"dtype\": \"string\",\n        \"num_unique_values\": 3,\n        \"samples\": [],\n        \"semantic_type\": \"\",\n        \"description\": \"\"\n      }\n    },\n    {\n      \"column\": \"4. Do wearable devices encourage you to stay more physically active?\",\n      \"properties\": {\n        \"dtype\": \"string\",\n        \"num_unique_values\": 4,\n        \"samples\": [],\n        \"semantic_type\": \"\",\n        \"description\": \"\"\n      }\n    },\n    {\n      \"column\": \"5. Which feature would enhance your overall well-being?\",\n      \"properties\": {\n        \"dtype\": \"string\",\n        \"num_unique_values\": 4,\n        \"samples\": [],\n        \"semantic_type\": \"\",\n        \"description\": \"\"\n      }\n    },\n    {\n      \"column\": \"6. Do you feel wearable devices provide accurate health data?\",\n      \"properties\": {\n        \"dtype\": \"string\",\n        \"num_unique_values\": 3,\n        \"samples\": [],\n        \"semantic_type\": \"\",\n        \"description\": \"\"\n      }\n    },\n    {\n      \"column\": \"7. How does a wearable device impact your mental well-being?\",\n      \"properties\": {\n        \"dtype\": \"string\",\n        \"num_unique_values\": 4,\n        \"samples\": [],\n        \"semantic_type\": \"\",\n        \"description\": \"\"\n      }\n    },\n    {\n      \"column\": \"8. Would you recommend wearable devices to others for health improvement?\",\n      \"properties\": {\n        \"dtype\": \"string\",\n        \"num_unique_values\": 4,\n        \"samples\": [],\n        \"semantic_type\": \"\",\n        \"description\": \"\"\n      }\n    },\n    {\n      \"column\": \"9. What type of health reports do you find most useful?\",\n      \"properties\": {\n        \"dtype\": \"string\",\n        \"num_unique_values\": 4,\n        \"samples\": [],\n        \"semantic_type\": \"\",\n        \"description\": \"\"\n      }\n    },\n    {\n      \"column\": \"10. How easy is it for you to understand the health data provided by your wearable device?\",\n      \"properties\": {\n        \"dtype\": \"string\",\n        \"num_unique_values\": 4,\n        \"samples\": [],\n        \"semantic_type\": \"\",\n        \"description\": \"\"\n      }\n    }\n  ]\n}"
            }
          },
          "metadata": {},
          "execution_count": 21
        }
      ]
    },
    {
      "cell_type": "code",
      "source": [
        "# Function 9: Filter rows based on a condition\n",
        "filter_condition = df['your_column_name'] > 10  # Replace with an actual condition\n",
        "if 'your_column_name' in df.columns:\n",
        "    filtered_df = df[filter_condition]\n",
        "    print(\"\\nFiltered DataFrame (rows where your_column_name > 10):\")\n",
        "    print(filtered_df.head())\n",
        "else:\n",
        "    print(f\"\\nColumn 'your_column_name' not found in the DataFrame.\")\n"
      ],
      "metadata": {
        "id": "wv8hA5_Er96C"
      },
      "execution_count": null,
      "outputs": []
    }
  ]
}